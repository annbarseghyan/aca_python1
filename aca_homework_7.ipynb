{
 "cells": [
  {
   "cell_type": "code",
   "execution_count": 1,
   "metadata": {},
   "outputs": [],
   "source": [
    "import numpy as np"
   ]
  },
  {
   "cell_type": "code",
   "execution_count": 2,
   "metadata": {},
   "outputs": [],
   "source": [
    "def convolution(mat1, mat2):\n",
    "\n",
    "    m=(len(mat1)-len(mat2)+1)\n",
    "    mat1=np.array(mat1)\n",
    "    mat2=np.array(mat2).flatten()\n",
    "    s=0\n",
    "    res=np.zeros((m, m))\n",
    "    for i in range(m):\n",
    "        for j in range(m):\n",
    "            mat=mat1[i:i+3, j:j+3].flatten()\n",
    "            for k in range(len(mat)):\n",
    "                if mat[k]==mat2[k]==1:\n",
    "                    s+=1\n",
    "            res[i][j]=s\n",
    "            s=0\n",
    "    return res"
   ]
  },
  {
   "cell_type": "code",
   "execution_count": 3,
   "metadata": {},
   "outputs": [],
   "source": [
    "mat1=np.array([[0,1,1,1,0,0,0],[0,0,1,1,1,0,0],[0,0,0,1,1,1,0],[0,0,0,1,1,0,0],[0,0,1,1,0,0,0],[0,1,1,0,0,0,0],[1,1,0,0,0,0,0]])\n",
    "mat2=np.array([[1,0,1],[0,1,0],[1,0,1]])"
   ]
  },
  {
   "cell_type": "code",
   "execution_count": 4,
   "metadata": {},
   "outputs": [
    {
     "data": {
      "text/plain": [
       "array([[1., 4., 3., 4., 1.],\n",
       "       [1., 2., 4., 3., 3.],\n",
       "       [1., 2., 3., 4., 1.],\n",
       "       [1., 3., 3., 1., 1.],\n",
       "       [3., 3., 1., 1., 0.]])"
      ]
     },
     "execution_count": 4,
     "metadata": {},
     "output_type": "execute_result"
    }
   ],
   "source": [
    "convolution(mat1, mat2)"
   ]
  },
  {
   "cell_type": "code",
   "execution_count": 5,
   "metadata": {},
   "outputs": [],
   "source": [
    "def rotate(matrix):\n",
    "    n=len(matrix)//2\n",
    "    m=len(matrix)\n",
    "    for i in range(n):\n",
    "        for j in range(i, m-i-1):\n",
    "\n",
    "            temp = matrix[i][j]\n",
    "            matrix[i][j] = matrix[m - 1 - j][i]\n",
    "            matrix[m - 1 - j][i] = matrix[m - 1 - i][m - 1 - j]\n",
    "            matrix[m - 1 - i][m - 1 - j] = matrix[j][m - 1 - i]\n",
    "            matrix[j][m - 1 - i] = temp  \n",
    "    return matrix"
   ]
  },
  {
   "cell_type": "code",
   "execution_count": 6,
   "metadata": {},
   "outputs": [
    {
     "data": {
      "text/plain": [
       "array([[3., 1., 1., 1., 1.],\n",
       "       [3., 3., 2., 2., 4.],\n",
       "       [1., 3., 3., 4., 3.],\n",
       "       [1., 1., 4., 3., 4.],\n",
       "       [0., 1., 1., 3., 1.]])"
      ]
     },
     "execution_count": 6,
     "metadata": {},
     "output_type": "execute_result"
    }
   ],
   "source": [
    "rotate(convolution(mat1, mat2))"
   ]
  },
  {
   "cell_type": "code",
   "execution_count": null,
   "metadata": {},
   "outputs": [],
   "source": []
  },
  {
   "cell_type": "code",
   "execution_count": null,
   "metadata": {},
   "outputs": [],
   "source": []
  },
  {
   "cell_type": "code",
   "execution_count": null,
   "metadata": {},
   "outputs": [],
   "source": []
  },
  {
   "cell_type": "code",
   "execution_count": null,
   "metadata": {},
   "outputs": [],
   "source": []
  },
  {
   "cell_type": "code",
   "execution_count": null,
   "metadata": {},
   "outputs": [],
   "source": []
  },
  {
   "cell_type": "code",
   "execution_count": null,
   "metadata": {},
   "outputs": [],
   "source": []
  },
  {
   "cell_type": "code",
   "execution_count": null,
   "metadata": {},
   "outputs": [],
   "source": []
  }
 ],
 "metadata": {
  "kernelspec": {
   "display_name": "Python 3",
   "language": "python",
   "name": "python3"
  },
  "language_info": {
   "codemirror_mode": {
    "name": "ipython",
    "version": 3
   },
   "file_extension": ".py",
   "mimetype": "text/x-python",
   "name": "python",
   "nbconvert_exporter": "python",
   "pygments_lexer": "ipython3",
   "version": "3.7.6"
  }
 },
 "nbformat": 4,
 "nbformat_minor": 4
}
