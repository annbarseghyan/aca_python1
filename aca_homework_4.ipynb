{
 "cells": [
  {
   "cell_type": "code",
   "execution_count": null,
   "metadata": {},
   "outputs": [],
   "source": [
    "#Unique Email Addresses\n",
    "def numUniqueEmails(emails):\n",
    "    x=[]\n",
    "    for i in emails:\n",
    "        for j in range(len(i)):\n",
    "            if i[j]=='@':\n",
    "                a=i[0:j].replace('.', '')\n",
    "                b=i[j:]\n",
    "                c=a\n",
    "                break\n",
    "        for k in range(len(a)):\n",
    "            if a[k]=='+':\n",
    "                c=a.replace(a[k:], '')\n",
    "                break\n",
    "        x.append(c+b)\n",
    "    return len(set(x))\n",
    "\n",
    "emails = [\"a@leetcode.com\",\"b.l@leetcode.com\",\"bl+455@leetcode.com\"]\n",
    "print(numUniqueEmails(emails))"
   ]
  },
  {
   "cell_type": "code",
   "execution_count": null,
   "metadata": {},
   "outputs": [],
   "source": [
    "#Find and Replace Pattern \n",
    "words = [\"abc\",\"deq\",\"mee\",\"aqq\",\"dkd\",\"ccc\"]\n",
    "pattern = \"ann\"\n",
    "\n",
    "def findReplace(words, p):\n",
    "    a=[]\n",
    "    for i in words:\n",
    "        for j in range(len(i)):\n",
    "            p=p.replace(p[j], i[j])\n",
    "\n",
    "        if p==i and (i!=len(i)*i[0] or len(i)==1) :\n",
    "            a.append(p)\n",
    "\n",
    "    return a\n",
    "\n",
    "print(findReplace(words, pattern))"
   ]
  },
  {
   "cell_type": "code",
   "execution_count": null,
   "metadata": {},
   "outputs": [],
   "source": [
    "#Finding the User Active minutes\n",
    "def findingUserActiveMinutes(logs, k):\n",
    "    m=[0 for i in range(k)]\n",
    "    logs_dict={}\n",
    "    for i in logs:\n",
    "        logs_dict[i[0]]=[]    \n",
    "    for i in logs:\n",
    "        logs_dict[i[0]].append(i[1])\n",
    "    for i in logs_dict.keys():\n",
    "        m[len(set(logs_dict[i]))-1]=1\n",
    "    return m\n",
    "\n",
    "logs = [[0,5],[1,2],[0,2],[0,5],[1,3]]\n",
    "k = 5\n",
    "print(findingUserActiveMinutes(logs, k))\n"
   ]
  },
  {
   "cell_type": "code",
   "execution_count": null,
   "metadata": {},
   "outputs": [],
   "source": [
    "#Jewels and Stones\n",
    "def numJewelsInStones(jewels, stones):\n",
    "    k=0\n",
    "    for i in stones:\n",
    "        if i in jewels:\n",
    "            k+=1\n",
    "    return k\n",
    "\n",
    "jewels = \"aA\"\n",
    "stones = \"aAAbbbb\"\n",
    "print(numJewelsInStones(jewels, stones))"
   ]
  },
  {
   "cell_type": "code",
   "execution_count": null,
   "metadata": {},
   "outputs": [],
   "source": [
    "#beautiful binary string\n",
    "def beautifulBinaryString(b):\n",
    "    k=0\n",
    "    i=0\n",
    "    while i <(len(b)-2):\n",
    "        if b[i]=='0' and b[i+1]=='1' and b[i+2]=='0':\n",
    "            i+=3\n",
    "            k+=1\n",
    "        else:\n",
    "            i+=1\n",
    "    return k"
   ]
  },
  {
   "cell_type": "code",
   "execution_count": null,
   "metadata": {},
   "outputs": [],
   "source": [
    "#String power\n",
    "def stringPower(s, k):\n",
    "    if k>0:\n",
    "        x=s*k\n",
    "    elif k==0:\n",
    "        x=''\n",
    "    else:\n",
    "        a=s[0:abs(int(len(s)/k))]\n",
    "        if a*abs(k)==s:\n",
    "            x=a\n",
    "        else:\n",
    "            x='undefined'\n",
    "    return x\n",
    "\n",
    "print(stringPower('abdfabdfabff',-3))\n"
   ]
  }
 ],
 "metadata": {
  "kernelspec": {
   "display_name": "Python 3",
   "language": "python",
   "name": "python3"
  },
  "language_info": {
   "codemirror_mode": {
    "name": "ipython",
    "version": 3
   },
   "file_extension": ".py",
   "mimetype": "text/x-python",
   "name": "python",
   "nbconvert_exporter": "python",
   "pygments_lexer": "ipython3",
   "version": "3.7.6"
  }
 },
 "nbformat": 4,
 "nbformat_minor": 4
}
