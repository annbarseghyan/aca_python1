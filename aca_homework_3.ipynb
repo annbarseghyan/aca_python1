{
 "cells": [
  {
   "cell_type": "code",
   "execution_count": 155,
   "metadata": {},
   "outputs": [],
   "source": [
    "## find if prime\n",
    "def isPrime(n):\n",
    "    s=0\n",
    "    i=1\n",
    "    while(i<=n**0.5):\n",
    "        if n%i==0:\n",
    "            s+=1\n",
    "        i+=1\n",
    "    if s==1:\n",
    "        return True\n",
    "    else:\n",
    "        return False"
   ]
  },
  {
   "cell_type": "code",
   "execution_count": 156,
   "metadata": {},
   "outputs": [],
   "source": [
    "## Goldbach Conjecture\n",
    "def goldbach(n):\n",
    "    a=[]\n",
    "    r=[]\n",
    "    for i in range(2, n):\n",
    "        if isPrime(i):\n",
    "            a.append(i)\n",
    "            \n",
    "    for i in a:\n",
    "        j=len(a)-1\n",
    "        while i+a[j]>n and j>=0:\n",
    "            j-=1\n",
    "        if a[j]+i==n:\n",
    "            r.append(i)\n",
    "            r.append(a[j])\n",
    "            break\n",
    "    return r"
   ]
  },
  {
   "cell_type": "code",
   "execution_count": 157,
   "metadata": {},
   "outputs": [
    {
     "name": "stdout",
     "output_type": "stream",
     "text": [
      "[3, 17]\n"
     ]
    }
   ],
   "source": [
    "print(goldbach(20))"
   ]
  },
  {
   "cell_type": "code",
   "execution_count": 153,
   "metadata": {},
   "outputs": [],
   "source": [
    "## palindrom numbers\n",
    "def palindrom(n):\n",
    "    a=[]\n",
    "    s=0\n",
    "    while n//10!=0:\n",
    "        a.append(n%10)\n",
    "        n//=10\n",
    "    a.append(n)\n",
    "    \n",
    "    for i in range(0, len(a)):\n",
    "        if a[i]!=a[len(a)-i-1]:\n",
    "            s+=1\n",
    "            \n",
    "    if s==0:\n",
    "        return True\n",
    "    else:\n",
    "        return False"
   ]
  },
  {
   "cell_type": "code",
   "execution_count": 154,
   "metadata": {},
   "outputs": [
    {
     "name": "stdout",
     "output_type": "stream",
     "text": [
      "15\n",
      "30\n",
      "22\n"
     ]
    }
   ],
   "source": [
    "a=int(input())\n",
    "b=int(input())\n",
    "\n",
    "for i in range(a, b):\n",
    "    if palindrom(i):\n",
    "        print(i)"
   ]
  },
  {
   "cell_type": "code",
   "execution_count": 160,
   "metadata": {},
   "outputs": [],
   "source": [
    "## Suffix Sums\n",
    "def suffixSum(n):\n",
    "    a=[]\n",
    "    for i in range(len(n)):\n",
    "        s=0\n",
    "        for j in range(i, len(n)):\n",
    "            s+=n[j]\n",
    "        a.append(s)\n",
    "    return a"
   ]
  },
  {
   "cell_type": "code",
   "execution_count": 161,
   "metadata": {},
   "outputs": [
    {
     "name": "stdout",
     "output_type": "stream",
     "text": [
      "[15, 14, 12, 9, 5]\n"
     ]
    }
   ],
   "source": [
    "print(suffixSum([1, 2, 3, 4, 5]))"
   ]
  },
  {
   "cell_type": "code",
   "execution_count": 224,
   "metadata": {},
   "outputs": [],
   "source": [
    "## Cyclic Shift\n",
    "def cyclicShift(n, k):\n",
    "    n.append(0)\n",
    "\n",
    "    while k>0:\n",
    "        for i in range(1, len(n)):\n",
    "            n[-i]=n[-i-1]\n",
    "        n[1]=n[0]\n",
    "        n[0]=n[-1]\n",
    "        n.pop(-1)\n",
    "        n.append(0)\n",
    "        k-=1\n",
    "    n.pop(-1)\n",
    "    return n"
   ]
  },
  {
   "cell_type": "code",
   "execution_count": 225,
   "metadata": {},
   "outputs": [
    {
     "name": "stdout",
     "output_type": "stream",
     "text": [
      "[100, 6, 0, 1, 9]\n"
     ]
    }
   ],
   "source": [
    "print(cyclicShift([9, 100, 6, 0, 1], 904))"
   ]
  },
  {
   "cell_type": "code",
   "execution_count": null,
   "metadata": {},
   "outputs": [],
   "source": [
    "##\n",
    "def cyclicShift_(n, k):\n",
    "    a=[]\n",
    "    while k>len(n):\n",
    "        k-=len(n)\n",
    "    for i in range(k, len(n)):\n",
    "        a.append(n[i])\n",
    "    for i in range(k):\n",
    "        a.append(n[i])\n",
    "    return a\n"
   ]
  },
  {
   "cell_type": "code",
   "execution_count": null,
   "metadata": {},
   "outputs": [],
   "source": [
    "print(cyclicShift_([9, 100, 6, 0, 1], 904))"
   ]
  },
  {
   "cell_type": "code",
   "execution_count": 158,
   "metadata": {},
   "outputs": [],
   "source": [
    "## Tree\n",
    "def tree(n):\n",
    "    x=(n+1)/2\n",
    "    i=y=1\n",
    "    while i<=x:\n",
    "        s=int((n-y)/2)\n",
    "        print(s*' ', y*'*', s*' ')\n",
    "        y+=2\n",
    "        i+=1"
   ]
  },
  {
   "cell_type": "code",
   "execution_count": 159,
   "metadata": {},
   "outputs": [
    {
     "name": "stdout",
     "output_type": "stream",
     "text": [
      "                *                \n",
      "               ***               \n",
      "              *****              \n",
      "             *******             \n",
      "            *********            \n",
      "           ***********           \n",
      "          *************          \n",
      "         ***************         \n",
      "        *****************        \n",
      "       *******************       \n",
      "      *********************      \n",
      "     ***********************     \n",
      "    *************************    \n",
      "   ***************************   \n",
      "  *****************************  \n",
      " ******************************* \n"
     ]
    }
   ],
   "source": [
    "tree(31)"
   ]
  },
  {
   "cell_type": "code",
   "execution_count": null,
   "metadata": {},
   "outputs": [],
   "source": []
  },
  {
   "cell_type": "code",
   "execution_count": null,
   "metadata": {},
   "outputs": [],
   "source": []
  },
  {
   "cell_type": "code",
   "execution_count": null,
   "metadata": {},
   "outputs": [],
   "source": []
  },
  {
   "cell_type": "code",
   "execution_count": 218,
   "metadata": {},
   "outputs": [],
   "source": []
  },
  {
   "cell_type": "code",
   "execution_count": null,
   "metadata": {},
   "outputs": [],
   "source": []
  },
  {
   "cell_type": "code",
   "execution_count": null,
   "metadata": {},
   "outputs": [],
   "source": []
  }
 ],
 "metadata": {
  "kernelspec": {
   "display_name": "Python 3",
   "language": "python",
   "name": "python3"
  },
  "language_info": {
   "codemirror_mode": {
    "name": "ipython",
    "version": 3
   },
   "file_extension": ".py",
   "mimetype": "text/x-python",
   "name": "python",
   "nbconvert_exporter": "python",
   "pygments_lexer": "ipython3",
   "version": "3.7.6"
  }
 },
 "nbformat": 4,
 "nbformat_minor": 4
}
