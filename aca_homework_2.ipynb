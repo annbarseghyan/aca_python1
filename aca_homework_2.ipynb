{
 "cells": [
  {
   "cell_type": "code",
   "execution_count": 61,
   "metadata": {},
   "outputs": [],
   "source": [
    "##Digit Product\n",
    "def prod(n):\n",
    "    s=1\n",
    "    while n//10!=0:\n",
    "        if n%10!=0:\n",
    "            s*=n%10\n",
    "        n//=10\n",
    "    return s*n\n"
   ]
  },
  {
   "cell_type": "code",
   "execution_count": 63,
   "metadata": {},
   "outputs": [],
   "source": [
    "##Largest Power of 3\n",
    "def pthree(n):\n",
    "    N=1\n",
    "    while N <= n:\n",
    "        N*=3\n",
    "    return N/3\n"
   ]
  },
  {
   "cell_type": "code",
   "execution_count": 7,
   "metadata": {},
   "outputs": [],
   "source": [
    "##Triangle\n",
    "def triangle(a, b, c):\n",
    "    s=a+b+c\n",
    "    a1=min(a, b, c)\n",
    "    c1=max(a, b, c)\n",
    "    b1=s-a1-c1\n",
    "    \n",
    "    if a1+c1<=b1 or a1+b1<=c1 or c1+b1<=a1:\n",
    "        res=\"No Triangle\"\n",
    "    elif c1**2==a1**2+b1**2:\n",
    "        res=\"Right Triangle\"\n",
    "    elif c1**2 <a1**2+b1**2:\n",
    "        res=\"Acute Triangle\"\n",
    "    else:\n",
    "        res =\"Obtuse Triangle\"\n",
    "    return res\n",
    "    "
   ]
  },
  {
   "cell_type": "code",
   "execution_count": 67,
   "metadata": {},
   "outputs": [],
   "source": [
    "##The Root of the Number\n",
    "def root(n):\n",
    "    print(n)\n",
    "    while n >=10:\n",
    "        s=0\n",
    "        while n//10!=0:\n",
    "            s+=n%10\n",
    "            n//=10\n",
    "        s+=n\n",
    "        print(s)\n",
    "        n=s\n"
   ]
  },
  {
   "cell_type": "code",
   "execution_count": 68,
   "metadata": {},
   "outputs": [],
   "source": [
    "##Number of Divisors\n",
    "def div(n):\n",
    "    i=1\n",
    "    s=1\n",
    "    while i<=n/2:\n",
    "        if n%i==0:\n",
    "            s+=1\n",
    "        i+=1\n",
    "    return s\n",
    "\n"
   ]
  },
  {
   "cell_type": "code",
   "execution_count": 69,
   "metadata": {},
   "outputs": [],
   "source": [
    "##Quadratic equation\n",
    "def quadeq(a, b, c):\n",
    "    if a==0:\n",
    "        res='Non-quadratic equation'\n",
    "        det=''\n",
    "        if b==0:\n",
    "            if c==0:\n",
    "                sol='Infinite solutions'\n",
    "            else:\n",
    "                sol='No solution'\n",
    "        else:\n",
    "            sol=f'One solution: {-c/b}'\n",
    "    else:\n",
    "        res='Quadratic equation'\n",
    "        det=b**2-4*a*c\n",
    "        if det<0:\n",
    "            sol='No solution'\n",
    "        elif det==0:\n",
    "            sol=f'One solution: {-b/(2*a)}'\n",
    "        else:\n",
    "            sol=f'Two solutions: {(-b-det**0.5)/(2*a)}, {(-b+det**0.5)/(2*a)} '\n",
    "    \n",
    "    print(res, det, sol, sep='\\n')\n"
   ]
  },
  {
   "cell_type": "code",
   "execution_count": null,
   "metadata": {},
   "outputs": [],
   "source": []
  },
  {
   "cell_type": "code",
   "execution_count": null,
   "metadata": {},
   "outputs": [],
   "source": [
    "\n"
   ]
  },
  {
   "cell_type": "code",
   "execution_count": null,
   "metadata": {},
   "outputs": [],
   "source": []
  }
 ],
 "metadata": {
  "kernelspec": {
   "display_name": "Python 3",
   "language": "python",
   "name": "python3"
  },
  "language_info": {
   "codemirror_mode": {
    "name": "ipython",
    "version": 3
   },
   "file_extension": ".py",
   "mimetype": "text/x-python",
   "name": "python",
   "nbconvert_exporter": "python",
   "pygments_lexer": "ipython3",
   "version": "3.7.6"
  }
 },
 "nbformat": 4,
 "nbformat_minor": 4
}
